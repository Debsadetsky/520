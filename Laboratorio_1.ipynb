{
  "nbformat": 4,
  "nbformat_minor": 0,
  "metadata": {
    "colab": {
      "name": "Laboratorio_1.ipynb",
      "provenance": [],
      "collapsed_sections": [],
      "authorship_tag": "ABX9TyMLqPcw17+VeWVhE6F9O57W",
      "include_colab_link": true
    },
    "kernelspec": {
      "name": "python3",
      "display_name": "Python 3"
    }
  },
  "cells": [
    {
      "cell_type": "markdown",
      "metadata": {
        "id": "view-in-github",
        "colab_type": "text"
      },
      "source": [
        "<a href=\"https://colab.research.google.com/github/Debsadetsky/520/blob/master/Laboratorio_1.ipynb\" target=\"_parent\"><img src=\"https://colab.research.google.com/assets/colab-badge.svg\" alt=\"Open In Colab\"/></a>"
      ]
    },
    {
      "cell_type": "markdown",
      "metadata": {
        "id": "KyjulpqgkcoI",
        "colab_type": "text"
      },
      "source": [
        "*12 de março de 2020*\n",
        "\n",
        "# **Laboratório 1**\n",
        "\n",
        "### **Objetivo**\n",
        "\n",
        "  O objetivo desse laboratório é realizar algumas análises do conjunto de dados disponibilizados pela Professora Paula, para aprendermos a utilizar uma nova ferramenta computacional. \n",
        "\n",
        "  Escolhi fazer o relatório utilizando o **Google Colab**, uma ferramenta que nunca utilizei e que me parece ser bastante interessante. Além disso, para as análises utilizarei uma linguagem que tenho alguma familiaridade, no entanto dentre as que já usei é a que menos explorei: **Python**. \n",
        "Não escolhi uma linguagem que nunca utilizei anteriormente, pois estou bastante curiosa a respeito do Google Colab, e, por saber que essa ferramenta dá suporte para **Python**.\n",
        "\n",
        "Apesar, de trabalhar com dados há alguns meses, utilizei na maior parte do tempo a linguagem **R**.\n",
        "\n",
        "Para dar início à atividade, apenas criei um novo documento **.ipynb** no Google Colab logada na minha conta Google e achei bastante fácil e prático não ter que preparar nenhum ambiente e me preocupar com nenhum tipo de instalação, algo novo para mim. Minhas experiências de preparação de ambiente foram um pouco traumáticas, considerando que não vim da formação de computação. Acredito que a vez que tive menos trabalho nessa etapa (antes de descobrir o Google Colab), foi baixando o **R Studio** e utilizando o formato Markdown.\n",
        "\n"
      ]
    },
    {
      "cell_type": "markdown",
      "metadata": {
        "id": "3GjZS97Xmhsa",
        "colab_type": "text"
      },
      "source": [
        "### **Documentação da análise de dados**\n",
        "\n",
        "*Inicialmente irei importar o conjunto de dados que a Prof. Paula disponibilizou no formato **.csv** e as bibliotecas do Python necessárias para as análises:*"
      ]
    },
    {
      "cell_type": "code",
      "metadata": {
        "id": "nnCl6HY-mgWc",
        "colab_type": "code",
        "outputId": "59d11715-ea19-4285-f9cd-9bbc7b037688",
        "colab": {
          "base_uri": "https://localhost:8080/",
          "height": 225
        }
      },
      "source": [
        "#link de acesso ao arquivo .csv no github\n",
        "url = 'https://raw.githubusercontent.com/pdpcosta/lab2learn/master/DATA/ebmocsna.csv'\n",
        "\n",
        "#importação da biblioteca pandas de manipulação e análise de dados\n",
        "import pandas as pd\n",
        "\n",
        "#leitura do arquivo .csv\n",
        "df = pd.read_csv(url)\n",
        "\n",
        "#print do dataframe para testar se a leitura do arquivo foi feita corretamente\n",
        "print(df)"
      ],
      "execution_count": 1,
      "outputs": [
        {
          "output_type": "stream",
          "text": [
            "    x1  x2  x3  x4     y1    y2     y3     y4\n",
            "0   10  10  10   8   8.04  9.14   7.46   6.58\n",
            "1    8   8   8   8   6.95  8.14   6.77   5.76\n",
            "2   13  13  13   8   7.58  8.74  12.74   7.71\n",
            "3    9   9   9   8   8.81  8.77   7.11   8.84\n",
            "4   11  11  11   8   8.33  9.26   7.81   8.47\n",
            "5   14  14  14   8   9.96  8.10   8.84   7.04\n",
            "6    6   6   6   8   7.24  6.13   6.08   5.25\n",
            "7    4   4   4  19   4.26  3.10   5.39  12.50\n",
            "8   12  12  12   8  10.84  9.13   8.15   5.56\n",
            "9    7   7   7   8   4.82  7.26   6.42   7.91\n",
            "10   5   5   5   8   5.68  4.74   5.73   6.89\n"
          ],
          "name": "stdout"
        }
      ]
    },
    {
      "cell_type": "markdown",
      "metadata": {
        "id": "-EH2hUOgyTA0",
        "colab_type": "text"
      },
      "source": [
        "Com a leitura do arquivo **.csv** já feita adequadamente, pude começar a calcular as médias e correlações das colunas de **df**. Essa etapa da atividade já foi feita na parte 1, no entanto vamos refazê-la utilizando ferramentas computacionais.\n",
        "\n",
        "#### **Cálculo das médias**:"
      ]
    },
    {
      "cell_type": "code",
      "metadata": {
        "id": "ASe0xXIAy_Pv",
        "colab_type": "code",
        "outputId": "306872cc-c9bb-433a-e8d2-fe164efb341c",
        "colab": {
          "base_uri": "https://localhost:8080/",
          "height": 173
        }
      },
      "source": [
        "round(df.mean(), 2)"
      ],
      "execution_count": 2,
      "outputs": [
        {
          "output_type": "execute_result",
          "data": {
            "text/plain": [
              "x1    9.0\n",
              "x2    9.0\n",
              "x3    9.0\n",
              "x4    9.0\n",
              "y1    7.5\n",
              "y2    7.5\n",
              "y3    7.5\n",
              "y4    7.5\n",
              "dtype: float64"
            ]
          },
          "metadata": {
            "tags": []
          },
          "execution_count": 2
        }
      ]
    },
    {
      "cell_type": "markdown",
      "metadata": {
        "id": "nqW1NCRYZzzQ",
        "colab_type": "text"
      },
      "source": [
        "**OBS**: Como podemos ver acima, devido ao fato de todas as médias possuirem um 0 à direita quando arredondadas para duas casas decimais, elas passam a ter apenas uma casa decimal."
      ]
    },
    {
      "cell_type": "markdown",
      "metadata": {
        "id": "xzxKqUb_JVvx",
        "colab_type": "text"
      },
      "source": [
        "Para o cálculo das correlações, optei por utilizar a populacional devido ao tamanho do **df**. Como se trata de um **conjunto pequeno de dados** não precisamos trabalhar com amostras, já que a população (conjunto total de dados) é fácil de ser analisada como um todo e não requer muito processamento.\n",
        "\n"
      ]
    },
    {
      "cell_type": "markdown",
      "metadata": {
        "id": "ei0hRlxSJNnA",
        "colab_type": "text"
      },
      "source": [
        "#### **Cálculo das correlações populacionais**"
      ]
    },
    {
      "cell_type": "markdown",
      "metadata": {
        "id": "scFBYp-OtIXh",
        "colab_type": "text"
      },
      "source": [
        "Para o cálculo dos coeficientes populacionais, utilizei duas funções diferentes: a função **corr** da biblioteca **pandas** e a **pearsonr** da biblioteca **Scipy**. Econtrei essas funções que me pareceram bastante simples, temos apenas que inserir os vetores X e Y elas retornam o coeficiente de correlação populacional. Optei por testar as duas para, além de praticar utilizando bibliotecas diferentes, verificar se os resultados seriam os mesmos de fato.\n",
        "\n",
        "Além disso, utilizei a função **round** para arredondarmos os coeficientes para **3** casas decimais, como foi pedido na parte 1 da atividade.\n",
        "\n",
        "\n",
        "\n",
        "#####Cálculo dos coeficientes de correlação populacional utilizando a função **pearsonr** da biblioteca **Scipy**:"
      ]
    },
    {
      "cell_type": "code",
      "metadata": {
        "id": "2axdzoXjJTD5",
        "colab_type": "code",
        "outputId": "356f8b84-c173-48af-ff24-7f8c3236eb25",
        "colab": {
          "base_uri": "https://localhost:8080/",
          "height": 87
        }
      },
      "source": [
        "from scipy import stats\n",
        "\n",
        "for i in range(0,4):\n",
        "  print(\"Coeficiente de correlação (x{},y{}) = {}\".format(i+1, i+1, round(stats.pearsonr(df.iloc[:, i], df.iloc[:, i + 4])[0], 3)))"
      ],
      "execution_count": 3,
      "outputs": [
        {
          "output_type": "stream",
          "text": [
            "Coeficiente de correlação (x1,y1) = 0.816\n",
            "Coeficiente de correlação (x2,y2) = 0.816\n",
            "Coeficiente de correlação (x3,y3) = 0.816\n",
            "Coeficiente de correlação (x4,y4) = 0.817\n"
          ],
          "name": "stdout"
        }
      ]
    },
    {
      "cell_type": "markdown",
      "metadata": {
        "id": "hkXgrri7tVeG",
        "colab_type": "text"
      },
      "source": [
        "#####Cálculo dos coeficientes de correlação populacional utilizando a função **corr** da biblioteca **pandas**:\n"
      ]
    },
    {
      "cell_type": "code",
      "metadata": {
        "id": "hQjwdSlf8TuN",
        "colab_type": "code",
        "colab": {
          "base_uri": "https://localhost:8080/",
          "height": 87
        },
        "outputId": "c06f7690-9ee9-4ac7-bb9d-80a357ed271c"
      },
      "source": [
        "for i in range(0,4):\n",
        "  print(\"Coeficiente de correlação (x{},y{}) = {}\".format(i+1, i+1, round(df.iloc[:, i].corr(df.iloc[:, i + 4]), 3)))"
      ],
      "execution_count": 4,
      "outputs": [
        {
          "output_type": "stream",
          "text": [
            "Coeficiente de correlação (x1,y1) = 0.816\n",
            "Coeficiente de correlação (x2,y2) = 0.816\n",
            "Coeficiente de correlação (x3,y3) = 0.816\n",
            "Coeficiente de correlação (x4,y4) = 0.817\n"
          ],
          "name": "stdout"
        }
      ]
    },
    {
      "cell_type": "markdown",
      "metadata": {
        "id": "WVP6errI8hfB",
        "colab_type": "text"
      },
      "source": [
        "####**Conclusões sobre as análises feitas tanto na parte 1 quanto na parte 2**:\n",
        "\n",
        "Após realizar as mesmas análises de dados manualmente e utilizando uma ferramenta computacional, existe uma redução absurda de tempo. Além disso, confesso que é bastante difícil fazer tantos cálculos manuais sabendo que eles poderiam ser feitos de forma tão mais rapida utilizando ferramentas computacionais, havia uma tentação bem grande de fazer os cálculos utilizando o **Excel**.\n",
        "\n",
        "Além disso, falando sobre os resultados numéricos, mantenho minha opinião da parte 1, os quatro conjuntos de dados correspondem ao mesmo fenômeno. As médias de **x1, x2, x3 e x4** são iguais, assim como as médias de **y1, y2, y3 e y4** são iguais. Além de que os coeficientes de correlação positivos dos quatro conjuntos indicam uma relação forte entre **x** e **y**, pois são todos muito próximos de 1 (**0,816** ou **0,817**)."
      ]
    },
    {
      "cell_type": "markdown",
      "metadata": {
        "colab_type": "text",
        "id": "b-8X6Rwi7frC"
      },
      "source": [
        "###**Continuação da análise dos dados**:\n",
        "\n",
        "####**p-valores calculados a partir da função pearsonr**:\n",
        "A função **pearsonr**, além do coeficiente de correlação populacional, retorna o **p valor**, o qual indica \"a probabilidade aproximada de um sistema não correlacionado produzir conjuntos de dados que tenham uma correlação de Pearson pelo menos tão extrema quanto a calculada a partir desses conjuntos de dados\" - *definição extraida da documentação da função **pearsonr** encontrada* **[aqui](https://docs.scipy.org/doc/scipy/reference/generated/scipy.stats.pearsonr.html)**. \n",
        "\n",
        "Os resultados obtidos estão apresentados abaixo:"
      ]
    },
    {
      "cell_type": "code",
      "metadata": {
        "id": "vNmM3u7L-4mY",
        "colab_type": "code",
        "colab": {
          "base_uri": "https://localhost:8080/",
          "height": 87
        },
        "outputId": "1ae12c8f-8a5a-4b74-c7a1-c673305498c5"
      },
      "source": [
        "for i in range(0,4):\n",
        "  print(\"p-valor de (x{},y{}) = {}\".format(i+1, i+1, round(stats.pearsonr(df.iloc[:, i], df.iloc[:, i + 4])[1], 3)))"
      ],
      "execution_count": 5,
      "outputs": [
        {
          "output_type": "stream",
          "text": [
            "p-valor de (x1,y1) = 0.002\n",
            "p-valor de (x2,y2) = 0.002\n",
            "p-valor de (x3,y3) = 0.002\n",
            "p-valor de (x4,y4) = 0.002\n"
          ],
          "name": "stdout"
        }
      ]
    },
    {
      "cell_type": "markdown",
      "metadata": {
        "id": "c_1syy47AHCo",
        "colab_type": "text"
      },
      "source": [
        "####**Matriz de correlação**:\n",
        "\n",
        "A função **corr** também pode retornar uma matriz de correlação entre cada um dos dados existentes em **df**.\n",
        "\n",
        "Com as poucas informações que sei sobre a base de dados em questão, acredito que a correlação entre os valores de **x** (Ex: coeficiente de correlação entre **x1 e x2**), entre os valores de **y** (Ex: coeficiente de correlação entre **y2** e **y3**) e entre os valores de **x** e **y** de experimentos e medições diferentes (Ex: coeficiente de correlação entre **x1** e **y3**) não são dados relevantes para a nossa análise.\n",
        "\n",
        "No entanto, resolvi plotar essa matriz de correlação completa, apenas para aprender a utilizar algumas ferramentas diferentes em Python utilizando a biblioteca **Pyplot**.\n"
      ]
    },
    {
      "cell_type": "code",
      "metadata": {
        "id": "cDdS6hkVB_1I",
        "colab_type": "code",
        "colab": {
          "base_uri": "https://localhost:8080/",
          "height": 205
        },
        "outputId": "77113e58-60eb-49c1-a083-ec7f62314329"
      },
      "source": [
        "import matplotlib as plt\n",
        "\n",
        "df.corr().style.format(\"{:.3}\").background_gradient(cmap = plt.pyplot.get_cmap('coolwarm'), axis = 1)"
      ],
      "execution_count": 6,
      "outputs": [
        {
          "output_type": "execute_result",
          "data": {
            "text/html": [
              "<style  type=\"text/css\" >\n",
              "    #T_d45c4928_7dee_11ea_8617_0242ac1c0002row0_col0 {\n",
              "            background-color:  #b40426;\n",
              "            color:  #f1f1f1;\n",
              "        }    #T_d45c4928_7dee_11ea_8617_0242ac1c0002row0_col1 {\n",
              "            background-color:  #b40426;\n",
              "            color:  #f1f1f1;\n",
              "        }    #T_d45c4928_7dee_11ea_8617_0242ac1c0002row0_col2 {\n",
              "            background-color:  #b40426;\n",
              "            color:  #f1f1f1;\n",
              "        }    #T_d45c4928_7dee_11ea_8617_0242ac1c0002row0_col3 {\n",
              "            background-color:  #3b4cc0;\n",
              "            color:  #f1f1f1;\n",
              "        }    #T_d45c4928_7dee_11ea_8617_0242ac1c0002row0_col4 {\n",
              "            background-color:  #dd5f4b;\n",
              "            color:  #000000;\n",
              "        }    #T_d45c4928_7dee_11ea_8617_0242ac1c0002row0_col5 {\n",
              "            background-color:  #dd5f4b;\n",
              "            color:  #000000;\n",
              "        }    #T_d45c4928_7dee_11ea_8617_0242ac1c0002row0_col6 {\n",
              "            background-color:  #dd5f4b;\n",
              "            color:  #000000;\n",
              "        }    #T_d45c4928_7dee_11ea_8617_0242ac1c0002row0_col7 {\n",
              "            background-color:  #6180e9;\n",
              "            color:  #000000;\n",
              "        }    #T_d45c4928_7dee_11ea_8617_0242ac1c0002row1_col0 {\n",
              "            background-color:  #b40426;\n",
              "            color:  #f1f1f1;\n",
              "        }    #T_d45c4928_7dee_11ea_8617_0242ac1c0002row1_col1 {\n",
              "            background-color:  #b40426;\n",
              "            color:  #f1f1f1;\n",
              "        }    #T_d45c4928_7dee_11ea_8617_0242ac1c0002row1_col2 {\n",
              "            background-color:  #b40426;\n",
              "            color:  #f1f1f1;\n",
              "        }    #T_d45c4928_7dee_11ea_8617_0242ac1c0002row1_col3 {\n",
              "            background-color:  #3b4cc0;\n",
              "            color:  #f1f1f1;\n",
              "        }    #T_d45c4928_7dee_11ea_8617_0242ac1c0002row1_col4 {\n",
              "            background-color:  #dd5f4b;\n",
              "            color:  #000000;\n",
              "        }    #T_d45c4928_7dee_11ea_8617_0242ac1c0002row1_col5 {\n",
              "            background-color:  #dd5f4b;\n",
              "            color:  #000000;\n",
              "        }    #T_d45c4928_7dee_11ea_8617_0242ac1c0002row1_col6 {\n",
              "            background-color:  #dd5f4b;\n",
              "            color:  #000000;\n",
              "        }    #T_d45c4928_7dee_11ea_8617_0242ac1c0002row1_col7 {\n",
              "            background-color:  #6180e9;\n",
              "            color:  #000000;\n",
              "        }    #T_d45c4928_7dee_11ea_8617_0242ac1c0002row2_col0 {\n",
              "            background-color:  #b40426;\n",
              "            color:  #f1f1f1;\n",
              "        }    #T_d45c4928_7dee_11ea_8617_0242ac1c0002row2_col1 {\n",
              "            background-color:  #b40426;\n",
              "            color:  #f1f1f1;\n",
              "        }    #T_d45c4928_7dee_11ea_8617_0242ac1c0002row2_col2 {\n",
              "            background-color:  #b40426;\n",
              "            color:  #f1f1f1;\n",
              "        }    #T_d45c4928_7dee_11ea_8617_0242ac1c0002row2_col3 {\n",
              "            background-color:  #3b4cc0;\n",
              "            color:  #f1f1f1;\n",
              "        }    #T_d45c4928_7dee_11ea_8617_0242ac1c0002row2_col4 {\n",
              "            background-color:  #dd5f4b;\n",
              "            color:  #000000;\n",
              "        }    #T_d45c4928_7dee_11ea_8617_0242ac1c0002row2_col5 {\n",
              "            background-color:  #dd5f4b;\n",
              "            color:  #000000;\n",
              "        }    #T_d45c4928_7dee_11ea_8617_0242ac1c0002row2_col6 {\n",
              "            background-color:  #dd5f4b;\n",
              "            color:  #000000;\n",
              "        }    #T_d45c4928_7dee_11ea_8617_0242ac1c0002row2_col7 {\n",
              "            background-color:  #6180e9;\n",
              "            color:  #000000;\n",
              "        }    #T_d45c4928_7dee_11ea_8617_0242ac1c0002row3_col0 {\n",
              "            background-color:  #6282ea;\n",
              "            color:  #000000;\n",
              "        }    #T_d45c4928_7dee_11ea_8617_0242ac1c0002row3_col1 {\n",
              "            background-color:  #6282ea;\n",
              "            color:  #000000;\n",
              "        }    #T_d45c4928_7dee_11ea_8617_0242ac1c0002row3_col2 {\n",
              "            background-color:  #6282ea;\n",
              "            color:  #000000;\n",
              "        }    #T_d45c4928_7dee_11ea_8617_0242ac1c0002row3_col3 {\n",
              "            background-color:  #b40426;\n",
              "            color:  #f1f1f1;\n",
              "        }    #T_d45c4928_7dee_11ea_8617_0242ac1c0002row3_col4 {\n",
              "            background-color:  #5d7ce6;\n",
              "            color:  #000000;\n",
              "        }    #T_d45c4928_7dee_11ea_8617_0242ac1c0002row3_col5 {\n",
              "            background-color:  #3b4cc0;\n",
              "            color:  #f1f1f1;\n",
              "        }    #T_d45c4928_7dee_11ea_8617_0242ac1c0002row3_col6 {\n",
              "            background-color:  #81a4fb;\n",
              "            color:  #000000;\n",
              "        }    #T_d45c4928_7dee_11ea_8617_0242ac1c0002row3_col7 {\n",
              "            background-color:  #d85646;\n",
              "            color:  #000000;\n",
              "        }    #T_d45c4928_7dee_11ea_8617_0242ac1c0002row4_col0 {\n",
              "            background-color:  #dc5d4a;\n",
              "            color:  #000000;\n",
              "        }    #T_d45c4928_7dee_11ea_8617_0242ac1c0002row4_col1 {\n",
              "            background-color:  #dc5d4a;\n",
              "            color:  #000000;\n",
              "        }    #T_d45c4928_7dee_11ea_8617_0242ac1c0002row4_col2 {\n",
              "            background-color:  #dc5d4a;\n",
              "            color:  #000000;\n",
              "        }    #T_d45c4928_7dee_11ea_8617_0242ac1c0002row4_col3 {\n",
              "            background-color:  #3b4cc0;\n",
              "            color:  #f1f1f1;\n",
              "        }    #T_d45c4928_7dee_11ea_8617_0242ac1c0002row4_col4 {\n",
              "            background-color:  #b40426;\n",
              "            color:  #f1f1f1;\n",
              "        }    #T_d45c4928_7dee_11ea_8617_0242ac1c0002row4_col5 {\n",
              "            background-color:  #e67259;\n",
              "            color:  #000000;\n",
              "        }    #T_d45c4928_7dee_11ea_8617_0242ac1c0002row4_col6 {\n",
              "            background-color:  #f7bca1;\n",
              "            color:  #000000;\n",
              "        }    #T_d45c4928_7dee_11ea_8617_0242ac1c0002row4_col7 {\n",
              "            background-color:  #4257c9;\n",
              "            color:  #f1f1f1;\n",
              "        }    #T_d45c4928_7dee_11ea_8617_0242ac1c0002row5_col0 {\n",
              "            background-color:  #d85646;\n",
              "            color:  #000000;\n",
              "        }    #T_d45c4928_7dee_11ea_8617_0242ac1c0002row5_col1 {\n",
              "            background-color:  #d85646;\n",
              "            color:  #000000;\n",
              "        }    #T_d45c4928_7dee_11ea_8617_0242ac1c0002row5_col2 {\n",
              "            background-color:  #d85646;\n",
              "            color:  #000000;\n",
              "        }    #T_d45c4928_7dee_11ea_8617_0242ac1c0002row5_col3 {\n",
              "            background-color:  #3b4cc0;\n",
              "            color:  #f1f1f1;\n",
              "        }    #T_d45c4928_7dee_11ea_8617_0242ac1c0002row5_col4 {\n",
              "            background-color:  #e36b54;\n",
              "            color:  #000000;\n",
              "        }    #T_d45c4928_7dee_11ea_8617_0242ac1c0002row5_col5 {\n",
              "            background-color:  #b40426;\n",
              "            color:  #f1f1f1;\n",
              "        }    #T_d45c4928_7dee_11ea_8617_0242ac1c0002row5_col6 {\n",
              "            background-color:  #f39577;\n",
              "            color:  #000000;\n",
              "        }    #T_d45c4928_7dee_11ea_8617_0242ac1c0002row5_col7 {\n",
              "            background-color:  #6687ed;\n",
              "            color:  #000000;\n",
              "        }    #T_d45c4928_7dee_11ea_8617_0242ac1c0002row6_col0 {\n",
              "            background-color:  #e0654f;\n",
              "            color:  #000000;\n",
              "        }    #T_d45c4928_7dee_11ea_8617_0242ac1c0002row6_col1 {\n",
              "            background-color:  #e0654f;\n",
              "            color:  #000000;\n",
              "        }    #T_d45c4928_7dee_11ea_8617_0242ac1c0002row6_col2 {\n",
              "            background-color:  #e0654f;\n",
              "            color:  #000000;\n",
              "        }    #T_d45c4928_7dee_11ea_8617_0242ac1c0002row6_col3 {\n",
              "            background-color:  #3b4cc0;\n",
              "            color:  #f1f1f1;\n",
              "        }    #T_d45c4928_7dee_11ea_8617_0242ac1c0002row6_col4 {\n",
              "            background-color:  #f2cab5;\n",
              "            color:  #000000;\n",
              "        }    #T_d45c4928_7dee_11ea_8617_0242ac1c0002row6_col5 {\n",
              "            background-color:  #f7af91;\n",
              "            color:  #000000;\n",
              "        }    #T_d45c4928_7dee_11ea_8617_0242ac1c0002row6_col6 {\n",
              "            background-color:  #b40426;\n",
              "            color:  #f1f1f1;\n",
              "        }    #T_d45c4928_7dee_11ea_8617_0242ac1c0002row6_col7 {\n",
              "            background-color:  #6788ee;\n",
              "            color:  #000000;\n",
              "        }    #T_d45c4928_7dee_11ea_8617_0242ac1c0002row7_col0 {\n",
              "            background-color:  #5f7fe8;\n",
              "            color:  #000000;\n",
              "        }    #T_d45c4928_7dee_11ea_8617_0242ac1c0002row7_col1 {\n",
              "            background-color:  #5f7fe8;\n",
              "            color:  #000000;\n",
              "        }    #T_d45c4928_7dee_11ea_8617_0242ac1c0002row7_col2 {\n",
              "            background-color:  #5f7fe8;\n",
              "            color:  #000000;\n",
              "        }    #T_d45c4928_7dee_11ea_8617_0242ac1c0002row7_col3 {\n",
              "            background-color:  #dd5f4b;\n",
              "            color:  #000000;\n",
              "        }    #T_d45c4928_7dee_11ea_8617_0242ac1c0002row7_col4 {\n",
              "            background-color:  #3b4cc0;\n",
              "            color:  #f1f1f1;\n",
              "        }    #T_d45c4928_7dee_11ea_8617_0242ac1c0002row7_col5 {\n",
              "            background-color:  #3c4ec2;\n",
              "            color:  #f1f1f1;\n",
              "        }    #T_d45c4928_7dee_11ea_8617_0242ac1c0002row7_col6 {\n",
              "            background-color:  #84a7fc;\n",
              "            color:  #000000;\n",
              "        }    #T_d45c4928_7dee_11ea_8617_0242ac1c0002row7_col7 {\n",
              "            background-color:  #b40426;\n",
              "            color:  #f1f1f1;\n",
              "        }</style><table id=\"T_d45c4928_7dee_11ea_8617_0242ac1c0002\" ><thead>    <tr>        <th class=\"blank level0\" ></th>        <th class=\"col_heading level0 col0\" >x1</th>        <th class=\"col_heading level0 col1\" >x2</th>        <th class=\"col_heading level0 col2\" >x3</th>        <th class=\"col_heading level0 col3\" >x4</th>        <th class=\"col_heading level0 col4\" >y1</th>        <th class=\"col_heading level0 col5\" >y2</th>        <th class=\"col_heading level0 col6\" >y3</th>        <th class=\"col_heading level0 col7\" >y4</th>    </tr></thead><tbody>\n",
              "                <tr>\n",
              "                        <th id=\"T_d45c4928_7dee_11ea_8617_0242ac1c0002level0_row0\" class=\"row_heading level0 row0\" >x1</th>\n",
              "                        <td id=\"T_d45c4928_7dee_11ea_8617_0242ac1c0002row0_col0\" class=\"data row0 col0\" >1.0</td>\n",
              "                        <td id=\"T_d45c4928_7dee_11ea_8617_0242ac1c0002row0_col1\" class=\"data row0 col1\" >1.0</td>\n",
              "                        <td id=\"T_d45c4928_7dee_11ea_8617_0242ac1c0002row0_col2\" class=\"data row0 col2\" >1.0</td>\n",
              "                        <td id=\"T_d45c4928_7dee_11ea_8617_0242ac1c0002row0_col3\" class=\"data row0 col3\" >-0.5</td>\n",
              "                        <td id=\"T_d45c4928_7dee_11ea_8617_0242ac1c0002row0_col4\" class=\"data row0 col4\" >0.816</td>\n",
              "                        <td id=\"T_d45c4928_7dee_11ea_8617_0242ac1c0002row0_col5\" class=\"data row0 col5\" >0.816</td>\n",
              "                        <td id=\"T_d45c4928_7dee_11ea_8617_0242ac1c0002row0_col6\" class=\"data row0 col6\" >0.816</td>\n",
              "                        <td id=\"T_d45c4928_7dee_11ea_8617_0242ac1c0002row0_col7\" class=\"data row0 col7\" >-0.314</td>\n",
              "            </tr>\n",
              "            <tr>\n",
              "                        <th id=\"T_d45c4928_7dee_11ea_8617_0242ac1c0002level0_row1\" class=\"row_heading level0 row1\" >x2</th>\n",
              "                        <td id=\"T_d45c4928_7dee_11ea_8617_0242ac1c0002row1_col0\" class=\"data row1 col0\" >1.0</td>\n",
              "                        <td id=\"T_d45c4928_7dee_11ea_8617_0242ac1c0002row1_col1\" class=\"data row1 col1\" >1.0</td>\n",
              "                        <td id=\"T_d45c4928_7dee_11ea_8617_0242ac1c0002row1_col2\" class=\"data row1 col2\" >1.0</td>\n",
              "                        <td id=\"T_d45c4928_7dee_11ea_8617_0242ac1c0002row1_col3\" class=\"data row1 col3\" >-0.5</td>\n",
              "                        <td id=\"T_d45c4928_7dee_11ea_8617_0242ac1c0002row1_col4\" class=\"data row1 col4\" >0.816</td>\n",
              "                        <td id=\"T_d45c4928_7dee_11ea_8617_0242ac1c0002row1_col5\" class=\"data row1 col5\" >0.816</td>\n",
              "                        <td id=\"T_d45c4928_7dee_11ea_8617_0242ac1c0002row1_col6\" class=\"data row1 col6\" >0.816</td>\n",
              "                        <td id=\"T_d45c4928_7dee_11ea_8617_0242ac1c0002row1_col7\" class=\"data row1 col7\" >-0.314</td>\n",
              "            </tr>\n",
              "            <tr>\n",
              "                        <th id=\"T_d45c4928_7dee_11ea_8617_0242ac1c0002level0_row2\" class=\"row_heading level0 row2\" >x3</th>\n",
              "                        <td id=\"T_d45c4928_7dee_11ea_8617_0242ac1c0002row2_col0\" class=\"data row2 col0\" >1.0</td>\n",
              "                        <td id=\"T_d45c4928_7dee_11ea_8617_0242ac1c0002row2_col1\" class=\"data row2 col1\" >1.0</td>\n",
              "                        <td id=\"T_d45c4928_7dee_11ea_8617_0242ac1c0002row2_col2\" class=\"data row2 col2\" >1.0</td>\n",
              "                        <td id=\"T_d45c4928_7dee_11ea_8617_0242ac1c0002row2_col3\" class=\"data row2 col3\" >-0.5</td>\n",
              "                        <td id=\"T_d45c4928_7dee_11ea_8617_0242ac1c0002row2_col4\" class=\"data row2 col4\" >0.816</td>\n",
              "                        <td id=\"T_d45c4928_7dee_11ea_8617_0242ac1c0002row2_col5\" class=\"data row2 col5\" >0.816</td>\n",
              "                        <td id=\"T_d45c4928_7dee_11ea_8617_0242ac1c0002row2_col6\" class=\"data row2 col6\" >0.816</td>\n",
              "                        <td id=\"T_d45c4928_7dee_11ea_8617_0242ac1c0002row2_col7\" class=\"data row2 col7\" >-0.314</td>\n",
              "            </tr>\n",
              "            <tr>\n",
              "                        <th id=\"T_d45c4928_7dee_11ea_8617_0242ac1c0002level0_row3\" class=\"row_heading level0 row3\" >x4</th>\n",
              "                        <td id=\"T_d45c4928_7dee_11ea_8617_0242ac1c0002row3_col0\" class=\"data row3 col0\" >-0.5</td>\n",
              "                        <td id=\"T_d45c4928_7dee_11ea_8617_0242ac1c0002row3_col1\" class=\"data row3 col1\" >-0.5</td>\n",
              "                        <td id=\"T_d45c4928_7dee_11ea_8617_0242ac1c0002row3_col2\" class=\"data row3 col2\" >-0.5</td>\n",
              "                        <td id=\"T_d45c4928_7dee_11ea_8617_0242ac1c0002row3_col3\" class=\"data row3 col3\" >1.0</td>\n",
              "                        <td id=\"T_d45c4928_7dee_11ea_8617_0242ac1c0002row3_col4\" class=\"data row3 col4\" >-0.529</td>\n",
              "                        <td id=\"T_d45c4928_7dee_11ea_8617_0242ac1c0002row3_col5\" class=\"data row3 col5\" >-0.718</td>\n",
              "                        <td id=\"T_d45c4928_7dee_11ea_8617_0242ac1c0002row3_col6\" class=\"data row3 col6\" >-0.345</td>\n",
              "                        <td id=\"T_d45c4928_7dee_11ea_8617_0242ac1c0002row3_col7\" class=\"data row3 col7\" >0.817</td>\n",
              "            </tr>\n",
              "            <tr>\n",
              "                        <th id=\"T_d45c4928_7dee_11ea_8617_0242ac1c0002level0_row4\" class=\"row_heading level0 row4\" >y1</th>\n",
              "                        <td id=\"T_d45c4928_7dee_11ea_8617_0242ac1c0002row4_col0\" class=\"data row4 col0\" >0.816</td>\n",
              "                        <td id=\"T_d45c4928_7dee_11ea_8617_0242ac1c0002row4_col1\" class=\"data row4 col1\" >0.816</td>\n",
              "                        <td id=\"T_d45c4928_7dee_11ea_8617_0242ac1c0002row4_col2\" class=\"data row4 col2\" >0.816</td>\n",
              "                        <td id=\"T_d45c4928_7dee_11ea_8617_0242ac1c0002row4_col3\" class=\"data row4 col3\" >-0.529</td>\n",
              "                        <td id=\"T_d45c4928_7dee_11ea_8617_0242ac1c0002row4_col4\" class=\"data row4 col4\" >1.0</td>\n",
              "                        <td id=\"T_d45c4928_7dee_11ea_8617_0242ac1c0002row4_col5\" class=\"data row4 col5\" >0.75</td>\n",
              "                        <td id=\"T_d45c4928_7dee_11ea_8617_0242ac1c0002row4_col6\" class=\"data row4 col6\" >0.469</td>\n",
              "                        <td id=\"T_d45c4928_7dee_11ea_8617_0242ac1c0002row4_col7\" class=\"data row4 col7\" >-0.489</td>\n",
              "            </tr>\n",
              "            <tr>\n",
              "                        <th id=\"T_d45c4928_7dee_11ea_8617_0242ac1c0002level0_row5\" class=\"row_heading level0 row5\" >y2</th>\n",
              "                        <td id=\"T_d45c4928_7dee_11ea_8617_0242ac1c0002row5_col0\" class=\"data row5 col0\" >0.816</td>\n",
              "                        <td id=\"T_d45c4928_7dee_11ea_8617_0242ac1c0002row5_col1\" class=\"data row5 col1\" >0.816</td>\n",
              "                        <td id=\"T_d45c4928_7dee_11ea_8617_0242ac1c0002row5_col2\" class=\"data row5 col2\" >0.816</td>\n",
              "                        <td id=\"T_d45c4928_7dee_11ea_8617_0242ac1c0002row5_col3\" class=\"data row5 col3\" >-0.718</td>\n",
              "                        <td id=\"T_d45c4928_7dee_11ea_8617_0242ac1c0002row5_col4\" class=\"data row5 col4\" >0.75</td>\n",
              "                        <td id=\"T_d45c4928_7dee_11ea_8617_0242ac1c0002row5_col5\" class=\"data row5 col5\" >1.0</td>\n",
              "                        <td id=\"T_d45c4928_7dee_11ea_8617_0242ac1c0002row5_col6\" class=\"data row5 col6\" >0.588</td>\n",
              "                        <td id=\"T_d45c4928_7dee_11ea_8617_0242ac1c0002row5_col7\" class=\"data row5 col7\" >-0.478</td>\n",
              "            </tr>\n",
              "            <tr>\n",
              "                        <th id=\"T_d45c4928_7dee_11ea_8617_0242ac1c0002level0_row6\" class=\"row_heading level0 row6\" >y3</th>\n",
              "                        <td id=\"T_d45c4928_7dee_11ea_8617_0242ac1c0002row6_col0\" class=\"data row6 col0\" >0.816</td>\n",
              "                        <td id=\"T_d45c4928_7dee_11ea_8617_0242ac1c0002row6_col1\" class=\"data row6 col1\" >0.816</td>\n",
              "                        <td id=\"T_d45c4928_7dee_11ea_8617_0242ac1c0002row6_col2\" class=\"data row6 col2\" >0.816</td>\n",
              "                        <td id=\"T_d45c4928_7dee_11ea_8617_0242ac1c0002row6_col3\" class=\"data row6 col3\" >-0.345</td>\n",
              "                        <td id=\"T_d45c4928_7dee_11ea_8617_0242ac1c0002row6_col4\" class=\"data row6 col4\" >0.469</td>\n",
              "                        <td id=\"T_d45c4928_7dee_11ea_8617_0242ac1c0002row6_col5\" class=\"data row6 col5\" >0.588</td>\n",
              "                        <td id=\"T_d45c4928_7dee_11ea_8617_0242ac1c0002row6_col6\" class=\"data row6 col6\" >1.0</td>\n",
              "                        <td id=\"T_d45c4928_7dee_11ea_8617_0242ac1c0002row6_col7\" class=\"data row6 col7\" >-0.155</td>\n",
              "            </tr>\n",
              "            <tr>\n",
              "                        <th id=\"T_d45c4928_7dee_11ea_8617_0242ac1c0002level0_row7\" class=\"row_heading level0 row7\" >y4</th>\n",
              "                        <td id=\"T_d45c4928_7dee_11ea_8617_0242ac1c0002row7_col0\" class=\"data row7 col0\" >-0.314</td>\n",
              "                        <td id=\"T_d45c4928_7dee_11ea_8617_0242ac1c0002row7_col1\" class=\"data row7 col1\" >-0.314</td>\n",
              "                        <td id=\"T_d45c4928_7dee_11ea_8617_0242ac1c0002row7_col2\" class=\"data row7 col2\" >-0.314</td>\n",
              "                        <td id=\"T_d45c4928_7dee_11ea_8617_0242ac1c0002row7_col3\" class=\"data row7 col3\" >0.817</td>\n",
              "                        <td id=\"T_d45c4928_7dee_11ea_8617_0242ac1c0002row7_col4\" class=\"data row7 col4\" >-0.489</td>\n",
              "                        <td id=\"T_d45c4928_7dee_11ea_8617_0242ac1c0002row7_col5\" class=\"data row7 col5\" >-0.478</td>\n",
              "                        <td id=\"T_d45c4928_7dee_11ea_8617_0242ac1c0002row7_col6\" class=\"data row7 col6\" >-0.155</td>\n",
              "                        <td id=\"T_d45c4928_7dee_11ea_8617_0242ac1c0002row7_col7\" class=\"data row7 col7\" >1.0</td>\n",
              "            </tr>\n",
              "    </tbody></table>"
            ],
            "text/plain": [
              "<pandas.io.formats.style.Styler at 0x7f899c575550>"
            ]
          },
          "metadata": {
            "tags": []
          },
          "execution_count": 6
        }
      ]
    },
    {
      "cell_type": "markdown",
      "metadata": {
        "id": "zC27lA79GsKZ",
        "colab_type": "text"
      },
      "source": [
        "#### Gráfico do conjunto **(x1, y1)**:"
      ]
    },
    {
      "cell_type": "code",
      "metadata": {
        "id": "0qxcXENTNMpJ",
        "colab_type": "code",
        "colab": {
          "base_uri": "https://localhost:8080/",
          "height": 265
        },
        "outputId": "01cbfd94-79bd-47cb-a3c5-58f155110b14"
      },
      "source": [
        "plt.pyplot.scatter(df['x1'], df['y1'])\n",
        "plt.style.use('ggplot')\n",
        "plt.pyplot.show()"
      ],
      "execution_count": 7,
      "outputs": [
        {
          "output_type": "display_data",
          "data": {
            "image/png": "[encoded data removed]",
            "text/plain": [
              "<Figure size 432x288 with 1 Axes>"
            ]
          },
          "metadata": {
            "tags": [],
            "needs_background": "light"
          }
        }
      ]
    },
    {
      "cell_type": "markdown",
      "metadata": {
        "id": "jGjgBaMURhRR",
        "colab_type": "text"
      },
      "source": [
        "#### Gráfico do conjunto **(x2, y2)**:"
      ]
    },
    {
      "cell_type": "code",
      "metadata": {
        "id": "wGffFFUNRt1G",
        "colab_type": "code",
        "colab": {
          "base_uri": "https://localhost:8080/",
          "height": 265
        },
        "outputId": "047506d1-ea4e-45c1-9d68-fbcbd922a21f"
      },
      "source": [
        "plt.pyplot.scatter(df['x2'], df['y2'])\n",
        "plt.style.use('ggplot')\n",
        "plt.pyplot.show()"
      ],
      "execution_count": 8,
      "outputs": [
        {
          "output_type": "display_data",
          "data": {
            "image/png": "[encoded data removed]",
            "text/plain": [
              "<Figure size 432x288 with 1 Axes>"
            ]
          },
          "metadata": {
            "tags": []
          }
        }
      ]
    },
    {
      "cell_type": "markdown",
      "metadata": {
        "id": "iYkjEHTZRmyq",
        "colab_type": "text"
      },
      "source": [
        "#### Gráfico do conjunto **(x3, y3)**:"
      ]
    },
    {
      "cell_type": "code",
      "metadata": {
        "id": "pFB0VD2IR1Qa",
        "colab_type": "code",
        "colab": {
          "base_uri": "https://localhost:8080/",
          "height": 266
        },
        "outputId": "44b8a077-246f-429a-9100-778ecbd17b33"
      },
      "source": [
        "plt.pyplot.scatter(df['x3'], df['y3'])\n",
        "plt.style.use('ggplot')\n",
        "plt.pyplot.show()"
      ],
      "execution_count": 9,
      "outputs": [
        {
          "output_type": "display_data",
          "data": {
            "image/png": "[encoded data removed]",
            "text/plain": [
              "<Figure size 432x288 with 1 Axes>"
            ]
          },
          "metadata": {
            "tags": []
          }
        }
      ]
    },
    {
      "cell_type": "markdown",
      "metadata": {
        "id": "ctOksH_cRq4u",
        "colab_type": "text"
      },
      "source": [
        "#### Gráfico do conjunto **(x4, y4)**:"
      ]
    },
    {
      "cell_type": "code",
      "metadata": {
        "id": "LDPJsUXQR4W-",
        "colab_type": "code",
        "colab": {
          "base_uri": "https://localhost:8080/",
          "height": 265
        },
        "outputId": "684b81a0-8121-4e1d-e844-efb403a763d4"
      },
      "source": [
        "plt.pyplot.scatter(df['x4'], df['y4'])\n",
        "plt.style.use('ggplot')\n",
        "plt.pyplot.show()"
      ],
      "execution_count": 10,
      "outputs": [
        {
          "output_type": "display_data",
          "data": {
            "image/png": "[encoded data removed]",
            "text/plain": [
              "<Figure size 432x288 with 1 Axes>"
            ]
          },
          "metadata": {
            "tags": []
          }
        }
      ]
    },
    {
      "cell_type": "markdown",
      "metadata": {
        "id": "h9WHVRCTTLUG",
        "colab_type": "text"
      },
      "source": [
        "Para plotar os gráficos acima, pesquisei sobre a biblioteca **matplotlib**.\n",
        "Me baseei nos códigos encontrados [*aqui*](https://benalexkeen.com/correlation-in-python/). "
      ]
    },
    {
      "cell_type": "markdown",
      "metadata": {
        "id": "damxC8UJT6Hh",
        "colab_type": "text"
      },
      "source": [
        "Por enquanto, realizei apenas as analizes levantadas acima, no entanto, pretendo acrescentar bem mais informações, análises e gráficos durante o curso."
      ]
    }
  ]
}